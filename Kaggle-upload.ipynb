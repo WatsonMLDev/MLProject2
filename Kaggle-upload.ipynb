{
 "cells": [
  {
   "cell_type": "code",
   "execution_count": null,
   "metadata": {
    "collapsed": true
   },
   "outputs": [],
   "source": [
    "# This Python 3 environment comes with many helpful analytics libraries installed\n",
    "# It is defined by the kaggle/python Docker image: https://github.com/kaggle/docker-python\n",
    "# For example, here's several helpful packages to load\n",
    "\n",
    "import numpy as np # linear algebra\n",
    "import pandas as pd # data processing, CSV file I/O (e.g. pd.read_csv)\n",
    "\n",
    "# Input data files are available in the read-only \"../input/\" directory\n",
    "# For example, running this (by clicking run or pressing Shift+Enter) will list all files under the input directory\n",
    "\n",
    "import os\n",
    "for dirname, _, filenames in os.walk('/kaggle/input'):\n",
    "    for filename in filenames:\n",
    "        print(os.path.join(dirname, filename))\n",
    "\n",
    "print(os.getcwd())\n",
    "# You can write up to 20GB to the current directory (/kaggle/working/) that gets preserved as output when you create a version using \"Save & Run All\"\n",
    "# You can also write temporary files to /kaggle/temp/, but they won't be saved outside of the current session"
   ]
  },
  {
   "cell_type": "code",
   "execution_count": null,
   "outputs": [],
   "source": [
    "pip install ultralytics"
   ],
   "metadata": {
    "collapsed": false
   }
  },
  {
   "cell_type": "code",
   "execution_count": null,
   "outputs": [],
   "source": [
    "import torch\n",
    "import torchvision\n",
    "import torchvision.transforms as transforms\n",
    "import pandas as pd\n",
    "from ultralytics import YOLO\n",
    "import os\n",
    "import matplotlib.pyplot as plt\n",
    "import numpy as np\n",
    "\n",
    "# Load and normalize the CIFAR-10 dataset for testing\n",
    "transform = transforms.Compose(\n",
    "    [transforms.ToTensor(),\n",
    "     transforms.Normalize((0.5, 0.5, 0.5), (0.5, 0.5, 0.5))])\n",
    "\n",
    "test_images = torch.load('/kaggle/input/fall-2023-ist-557-individual-project-ii/test_image.pt')\n",
    "test_images = (test_images + 1) / 2\n",
    "\n",
    "# Load the pretrained YOLOv8 model\n",
    "model = YOLO('/kaggle/input/models-2/25-large.pt')\n",
    "\n",
    "# Classes for CIFAR-10\n",
    "classes = ('plane', 'car', 'bird', 'cat', 'deer', 'dog', 'frog', 'horse', 'ship', 'truck')\n",
    "\n",
    "# Make predictions on the test dataset\n",
    "predictions = []\n",
    "\n",
    "for image in test_images:\n",
    "    # Note: Adjust the following line if the model's prediction format is different\n",
    "    result = model.predict(image.unsqueeze(0), show=False )  # Add batch dimension\n",
    "    predicted_class = result[0].probs.top1  # Assuming this gives the class index\n",
    "    predictions.append(classes[predicted_class])\n",
    "\n",
    "# Visualize some of the test images along with their predicted labels\n",
    "def imshow(img):\n",
    "    npimg = img.numpy()\n",
    "    plt.imshow(np.transpose(npimg, (1, 2, 0)))\n",
    "    plt.show()\n",
    "\n",
    "# Display first 4 test images\n",
    "imshow(torchvision.utils.make_grid(test_images[:4]))\n",
    "print('Predicted: ', ' '.join(f'{predictions[j]:5s}' for j in range(4)))\n",
    "\n",
    "# Create a CSV submission file\n",
    "submission = pd.DataFrame()\n",
    "submission['label'] = predictions\n",
    "submission.to_csv(\"submission.csv\", index=True, index_label='id')"
   ],
   "metadata": {
    "collapsed": false
   }
  }
 ],
 "metadata": {
  "kernelspec": {
   "display_name": "Python 3",
   "language": "python",
   "name": "python3"
  },
  "language_info": {
   "codemirror_mode": {
    "name": "ipython",
    "version": 2
   },
   "file_extension": ".py",
   "mimetype": "text/x-python",
   "name": "python",
   "nbconvert_exporter": "python",
   "pygments_lexer": "ipython2",
   "version": "2.7.6"
  }
 },
 "nbformat": 4,
 "nbformat_minor": 0
}
